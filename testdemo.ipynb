{
 "cells": [
  {
   "cell_type": "code",
   "execution_count": 1,
   "metadata": {},
   "outputs": [
    {
     "name": "stdout",
     "output_type": "stream",
     "text": [
      "----------------begin-----------------\n",
      "image_count:3670\n",
      "['/sentosa/deeplearning/dataview/data/flower_photos/roses/16545641666_2781e542a0_m.jpg', '/sentosa/deeplearning/dataview/data/flower_photos/tulips/13510057763_01b832d919.jpg', '/sentosa/deeplearning/dataview/data/flower_photos/sunflowers/3683873444_be4a609c46.jpg', '/sentosa/deeplearning/dataview/data/flower_photos/dandelion/7099259755_1c66420206_n.jpg', '/sentosa/deeplearning/dataview/data/flower_photos/tulips/13529687904_3d60abb479_n.jpg', '/sentosa/deeplearning/dataview/data/flower_photos/roses/488849503_63a290a8c2_m.jpg', '/sentosa/deeplearning/dataview/data/flower_photos/dandelion/4562516418_8ccb8c103f.jpg', '/sentosa/deeplearning/dataview/data/flower_photos/daisy/506018088_4f7a15a7c5_n.jpg', '/sentosa/deeplearning/dataview/data/flower_photos/dandelion/10443973_aeb97513fc_m.jpg', '/sentosa/deeplearning/dataview/data/flower_photos/tulips/14074147406_7ab87aec79_n.jpg']\n",
      "load pic data sucess:/sentosa/deeplearning/dataview/data/flower_photos/\n",
      "load  data view sucess:flower_photos\n",
      "WARNING:tensorflow:From <ipython-input-1-8d47bb83235f>:17: shuffle_and_repeat (from tensorflow.python.data.experimental.ops.shuffle_ops) is deprecated and will be removed in a future version.\n",
      "Instructions for updating:\n",
      "Use `tf.data.Dataset.shuffle(buffer_size, seed)` followed by `tf.data.Dataset.repeat(count)`. Static tf.data optimizations will take care of using the fused implementation.\n",
      "3/3 [==============================] - 0s 55ms/step - loss: 2.0502 - accuracy: 0.1771\n",
      "WARNING:tensorflow:From /root/anaconda3/envs/TF2.3/lib/python3.7/site-packages/tensorflow/python/training/tracking/tracking.py:111: Model.state_updates (from tensorflow.python.keras.engine.training) is deprecated and will be removed in a future version.\n",
      "Instructions for updating:\n",
      "This property should not be used in TensorFlow 2.0, as updates are applied automatically.\n",
      "WARNING:tensorflow:From /root/anaconda3/envs/TF2.3/lib/python3.7/site-packages/tensorflow/python/training/tracking/tracking.py:111: Layer.updates (from tensorflow.python.keras.engine.base_layer) is deprecated and will be removed in a future version.\n",
      "Instructions for updating:\n",
      "This property should not be used in TensorFlow 2.0, as updates are applied automatically.\n",
      "INFO:tensorflow:Assets written to: /sentosa/deeplearning/model/tarinModel/assets\n",
      "/sentosa/deeplearning/dataview/data/zzc_output/zzc_output.csvzzc_output.csv\n",
      "----------------end-----------------\n"
     ]
    }
   ],
   "source": [
    "from sentosadl.model.modelview import ModelView\n",
    "from sentosadl.data.dataview import DataView\n",
    "import tensorflow as tf\n",
    "print(\"----------------begin-----------------\")\n",
    "dataView = DataView(\"zhaozhenchong\")\n",
    "modelMarket = ModelMarket(\"zhaozhenchong\")\n",
    "# 读取数据视图\n",
    "image_label_ds = dataView.load_data_view(\"flower_photos\")\n",
    "# 数据预处理\n",
    "def pre_process(image_label):\n",
    "    # 训练的基本方法\n",
    "    AUTOTUNE = tf.data.experimental.AUTOTUNE\n",
    "    BATCH_SIZE = 32\n",
    "    image_count = 3670\n",
    "    # 设置一个和数据集大小一致的 shuffle buffer size（随机缓冲区大小）以保证数据\n",
    "    # 被充分打乱。\n",
    "    ds = image_label.apply(\n",
    "        tf.data.experimental.shuffle_and_repeat(buffer_size=image_count))\n",
    "    ds = ds.batch(BATCH_SIZE)\n",
    "    ds = ds.prefetch(buffer_size=AUTOTUNE)\n",
    "    return ds\n",
    "# Picture preprocessing function\n",
    "def preprocess_image((image,label)):\n",
    "    image = tf.image.decode_jpeg(image, channels=3)\n",
    "    image = tf.image.resize(image, [192, 192])\n",
    "    image /= 255.0  # normalize to [0,1] range\n",
    "    return (image,label)\n",
    "ds=image_label_ds.map(preprocess_image)\n",
    "ds = pre_process(ds)\n",
    "# 传递数据集至模型\n",
    "mobile_net = tf.keras.applications.MobileNetV2(input_shape=(192, 192, 3), include_top=False)\n",
    "mobile_net.trainable = False\n",
    "# 生成模型\n",
    "model = tf.keras.Sequential([\n",
    "    mobile_net,\n",
    "    tf.keras.layers.GlobalAveragePooling2D(),\n",
    "    tf.keras.layers.Dense(5, activation='softmax')])\n",
    "model.compile(optimizer=tf.keras.optimizers.Adam(),\n",
    "              loss='sparse_categorical_crossentropy',\n",
    "              metrics=[\"accuracy\"])\n",
    "\n",
    "# 训练模型\n",
    "model.fit(ds, epochs=1, steps_per_epoch=3)\n",
    "# 模型保存\n",
    "modelMarket.save_model_view(model, \"tarinModel\")\n",
    "# 载入模型 它返回一个对象，其中包含可用于进行推断的函数\n",
    "modeltest = modelMarket.load_model_view(\"tarinModel\")\n",
    "# 预测数据集\n",
    "DEFAULT_FUNCTION_KEY = \"serving_default\"\n",
    "inference_func = modeltest.signatures[DEFAULT_FUNCTION_KEY]\n",
    "predict_dataset = ds.map(lambda image, label: image)\n",
    "\n",
    "for batch in predict_dataset.take(1):\n",
    "    result = inference_func(batch)\n",
    "# 保存预测结果\n",
    "dataset = tf.data.Dataset.from_tensor_slices(result)\n",
    "dataView.save_data_view(\"zzc_output\", dataset)\n",
    "print(\"----------------end-----------------\")"
   ]
  },
  {
   "cell_type": "code",
   "execution_count": null,
   "metadata": {},
   "outputs": [],
   "source": []
  }
 ],
 "metadata": {
  "kernelspec": {
   "display_name": "Python 3",
   "language": "python",
   "name": "python3"
  },
  "language_info": {
   "codemirror_mode": {
    "name": "ipython",
    "version": 3
   },
   "file_extension": ".py",
   "mimetype": "text/x-python",
   "name": "python",
   "nbconvert_exporter": "python",
   "pygments_lexer": "ipython3",
   "version": "3.7.9"
  }
 },
 "nbformat": 4,
 "nbformat_minor": 4
}
